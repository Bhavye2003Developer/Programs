{
 "cells": [
  {
   "cell_type": "code",
   "execution_count": 1,
   "metadata": {},
   "outputs": [],
   "source": [
    "import numpy as np\n",
    "import pandas as pd"
   ]
  },
  {
   "cell_type": "code",
   "execution_count": 2,
   "metadata": {},
   "outputs": [
    {
     "name": "stdout",
     "output_type": "stream",
     "text": [
      "   0\n",
      "0  1\n",
      "1  2\n",
      "2  3\n",
      "3  3\n",
      "4  5\n",
      "5  6\n",
      "6  7\n",
      "7  9\n",
      "\n",
      "0    2.725541\n",
      "dtype: float64\n",
      "25th percentile :  0    2.75\n",
      "Name: 0.25, dtype: float64\n"
     ]
    },
    {
     "data": {
      "text/plain": [
       "array([[<AxesSubplot: title={'center': '0'}>]], dtype=object)"
      ]
     },
     "execution_count": 2,
     "metadata": {},
     "output_type": "execute_result"
    },
    {
     "data": {
      "image/png": "[encoded data removed]",
      "text/plain": [
       "<Figure size 640x480 with 1 Axes>"
      ]
     },
     "metadata": {},
     "output_type": "display_data"
    }
   ],
   "source": [
    "l = [1,2,3,3,5,6,7,9]\n",
    "df = pd.DataFrame(l)\n",
    "print(df,end = \"\\n\\n\")\n",
    "\n",
    "mean = df.mean()\n",
    "suma = 0\n",
    "for i in l:\n",
    "\tsuma = (i - mean)**2\n",
    "\n",
    "n = len(l)\n",
    "var = suma/(n-1)\n",
    "\n",
    "# print(f\"variance : {var}\")\n",
    "# print(f\"std : {var**(1/2)}\")\n",
    "\n",
    "print(df.std(),end = \"\\n\")\n",
    "\n",
    "print(\"25th percentile : \",df.quantile(0.25))\n",
    "\n",
    "df.hist()"
   ]
  },
  {
   "cell_type": "code",
   "execution_count": 3,
   "metadata": {},
   "outputs": [
    {
     "name": "stdout",
     "output_type": "stream",
     "text": [
      "1.0 5.0 \n",
      "\n",
      "3.0 9.0 \n",
      "\n"
     ]
    }
   ],
   "source": [
    "#Matrix multiplication\n",
    "mat1 = [[1,3],\n",
    "        [5,9]]\n",
    "\n",
    "mat2 = [[0,-3],[1/3,8/3]]\n",
    "\n",
    "mul = []\n",
    "for row in range(len(mat1)):\n",
    "    col = []\n",
    "    for i in range(len(mat2[0])): #nuber_columns\n",
    "        value = 0\n",
    "        for j in range(len(mat1[row])):\n",
    "            value += mat1[row][j] * mat2[j][i]\n",
    "        col.append(value)\n",
    "    mul.append(col)\n",
    "\n",
    "#Prinitng matrices\n",
    "for i in range(len(mul)):\n",
    "    for j in range(len(mul[0])):\n",
    "        print(mul[i][j],end = \" \")\n",
    "    print(\"\\n\")"
   ]
  },
  {
   "cell_type": "code",
   "execution_count": null,
   "metadata": {},
   "outputs": [],
   "source": []
  }
 ],
 "metadata": {
  "kernelspec": {
   "display_name": "Python 3.10.7 64-bit",
   "language": "python",
   "name": "python3"
  },
  "language_info": {
   "codemirror_mode": {
    "name": "ipython",
    "version": 3
   },
   "file_extension": ".py",
   "mimetype": "text/x-python",
   "name": "python",
   "nbconvert_exporter": "python",
   "pygments_lexer": "ipython3",
   "version": "3.10.7"
  },
  "orig_nbformat": 4,
  "vscode": {
   "interpreter": {
    "hash": "e7370f93d1d0cde622a1f8e1c04877d8463912d04d973331ad4851f04de6915a"
   }
  }
 },
 "nbformat": 4,
 "nbformat_minor": 2
}
